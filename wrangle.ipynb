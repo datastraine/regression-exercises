{
 "cells": [
  {
   "cell_type": "code",
   "execution_count": 1,
   "metadata": {},
   "outputs": [
    {
     "name": "stdout",
     "output_type": "stream",
     "text": [
      "Success\n"
     ]
    }
   ],
   "source": [
    "import pandas as pd\n",
    "import numpy as np\n",
    "import seaborn as sns\n",
    "import matplotlib.pyplot as plt\n",
    "import acquire\n",
    "print('Success')"
   ]
  },
  {
   "cell_type": "code",
   "execution_count": 2,
   "metadata": {},
   "outputs": [
    {
     "name": "stdout",
     "output_type": "stream",
     "text": [
      "Help on module acquire:\n",
      "\n",
      "NAME\n",
      "    acquire\n",
      "\n",
      "FUNCTIONS\n",
      "    get_connection(db, user='darden_1027', host='157.230.209.171', password='nIymKg6jJmIPe6gQxik57EkY3Fl9kmvl')\n",
      "        This function uses my info from my env file to\n",
      "        create a connection url to access the Codeup db.\n",
      "    \n",
      "    get_iris_data(cached=False)\n",
      "        This function reads in iris data from Codeup database if cached == False\n",
      "        or if cached == True reads in iris df from a csv file, returns df\n",
      "    \n",
      "    get_mall_data(cached=False)\n",
      "        This function reads in mall customer data from Codeup database if cached == False \n",
      "        or if cached == True reads in mall customer df from a csv file, returns df\n",
      "    \n",
      "    get_titanic_data(cached=False)\n",
      "        This function reads in titanic data from Codeup database if cached == False \n",
      "        or if cached == True reads in titanic df from a csv file, returns df\n",
      "    \n",
      "    new_iris_data()\n",
      "        This function reads the iris data from the Codeup db into a df,\n",
      "        writes it to a csv file, and returns the df.\n",
      "    \n",
      "    new_mall_data()\n",
      "        This function reads the mall customer data from the Codeup db into a df,\n",
      "        write it to a csv file, and returns the df.\n",
      "    \n",
      "    new_titanic_data()\n",
      "        This function reads the titanic data from the Codeup db into a df,\n",
      "        write it to a csv file, and returns the df.\n",
      "\n",
      "DATA\n",
      "    host = '157.230.209.171'\n",
      "    password = 'nIymKg6jJmIPe6gQxik57EkY3Fl9kmvl'\n",
      "    user = 'darden_1027'\n",
      "\n",
      "FILE\n",
      "    c:\\users\\anthony\\documents\\data_science\\codeup\\regression_project\\acquire.py\n",
      "\n",
      "\n"
     ]
    }
   ],
   "source": [
    "help(acquire)"
   ]
  },
  {
   "cell_type": "code",
   "execution_count": 6,
   "metadata": {},
   "outputs": [
    {
     "name": "stdout",
     "output_type": "stream",
     "text": [
      "<class 'pandas.core.frame.DataFrame'>\n",
      "Int64Index: 200 entries, 0 to 199\n",
      "Data columns (total 5 columns):\n",
      " #   Column          Non-Null Count  Dtype \n",
      "---  ------          --------------  ----- \n",
      " 0   customer_id     200 non-null    int64 \n",
      " 1   gender          200 non-null    object\n",
      " 2   age             200 non-null    int64 \n",
      " 3   annual_income   200 non-null    int64 \n",
      " 4   spending_score  200 non-null    int64 \n",
      "dtypes: int64(4), object(1)\n",
      "memory usage: 9.4+ KB\n"
     ]
    }
   ],
   "source": [
    "df = acquire.get_mall_data()\n",
    "df.info()"
   ]
  },
  {
   "cell_type": "code",
   "execution_count": null,
   "metadata": {},
   "outputs": [],
   "source": []
  }
 ],
 "metadata": {
  "kernelspec": {
   "display_name": "Python 3",
   "language": "python",
   "name": "python3"
  },
  "language_info": {
   "codemirror_mode": {
    "name": "ipython",
    "version": 3
   },
   "file_extension": ".py",
   "mimetype": "text/x-python",
   "name": "python",
   "nbconvert_exporter": "python",
   "pygments_lexer": "ipython3",
   "version": "3.8.3"
  }
 },
 "nbformat": 4,
 "nbformat_minor": 4
}
