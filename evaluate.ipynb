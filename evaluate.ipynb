{
 "cells": [
  {
   "cell_type": "code",
   "execution_count": 2,
   "metadata": {},
   "outputs": [
    {
     "name": "stdout",
     "output_type": "stream",
     "text": [
      "Success\n"
     ]
    }
   ],
   "source": [
    "import pandas as pd\n",
    "import matplotlib.pyplot as plt\n",
    "import seaborn as sns\n",
    "import numpy as np\n",
    "from pydataset import data\n",
    "\n",
    "from statsmodels.formula.api import ols\n",
    "print(\"Success\")"
   ]
  },
  {
   "cell_type": "markdown",
   "metadata": {},
   "source": [
    "## Exercises\n",
    "\n",
    "Create a new notebook or Python script named `evaluate`.\n",
    "\n",
    "### Evaluating simple linear regressions on lemonade data with other features:\n",
    "1. Create a dataframe from the csv at \n",
    "`https://gist.githubusercontent.com/ryanorsinger/c303a90050d3192773288f7eea97b708/raw/536533b90bb2bf41cea27a2c96a63347cde082a6/lemonade.csv`\n",
    "2. Make a baseline for predicting `sales`. (The mean is a good baseline)\n",
    "3. Create a new dataframe to hold residuals. \n",
    "4. Calculate the baseline residuals. \n",
    "5. Use `ols` from `statsmodels` to create a simple linear regression (1 independent variable, 1 dependent variable) to predict `sales` using `flyers`.\n",
    "\n",
    "```python\n",
    "# the df variable is lemonade data\n",
    "\n",
    "model = ols('sales ~ flyers', data=df).fit()\n",
    "predictions = model.predict(df.x)\n",
    "```\n",
    "\n",
    "6. Use the `.predict` method from `ols` to produce all of our predictions. Add these predictions to the data\n",
    "\n",
    "7. Calculate that model's residuals. \n",
    "8. Evaluate that model's performance and answer if the model is significant.\n",
    "9. Evaluate that model's performance and answer if the feature is significant. \n",
    "\n",
    "### Repetition Improves Performance!\n",
    "- In the next section of your notebook, perform the steps above with the `rainfall` column as the model's feature. Does this model beat the baseline? Would you prefer the `rainfall` model over the `flyers` model?\n",
    "- In the next section of your notebook, perform the steps above with the `log_rainfall` column as the model's feature. Does this model beat the baseline? Would you prefer the `log_rainfall` model over the `flyers` model? Would you prefer the model built with `log_rainfall` over the `rainfall` model from before?\n",
    "- In the next section of your notebook, perform the steps above with the `temperature` column as the model's only feature. Does this model beat the baseline? Would you prefer the `rainfall`, `log_rainfall`, or the `flyers` model?\n",
    "- Which of these 4 single regression models would you want to move forward with?\n"
   ]
  },
  {
   "cell_type": "code",
   "execution_count": 3,
   "metadata": {},
   "outputs": [
    {
     "data": {
      "text/html": [
       "<div>\n",
       "<style scoped>\n",
       "    .dataframe tbody tr th:only-of-type {\n",
       "        vertical-align: middle;\n",
       "    }\n",
       "\n",
       "    .dataframe tbody tr th {\n",
       "        vertical-align: top;\n",
       "    }\n",
       "\n",
       "    .dataframe thead th {\n",
       "        text-align: right;\n",
       "    }\n",
       "</style>\n",
       "<table border=\"1\" class=\"dataframe\">\n",
       "  <thead>\n",
       "    <tr style=\"text-align: right;\">\n",
       "      <th></th>\n",
       "      <th>Date</th>\n",
       "      <th>Day</th>\n",
       "      <th>Temperature</th>\n",
       "      <th>Rainfall</th>\n",
       "      <th>Flyers</th>\n",
       "      <th>Price</th>\n",
       "      <th>Sales</th>\n",
       "    </tr>\n",
       "  </thead>\n",
       "  <tbody>\n",
       "    <tr>\n",
       "      <th>0</th>\n",
       "      <td>1/1/17</td>\n",
       "      <td>Sunday</td>\n",
       "      <td>27.0</td>\n",
       "      <td>2.00</td>\n",
       "      <td>15</td>\n",
       "      <td>0.5</td>\n",
       "      <td>10</td>\n",
       "    </tr>\n",
       "    <tr>\n",
       "      <th>1</th>\n",
       "      <td>1/2/17</td>\n",
       "      <td>Monday</td>\n",
       "      <td>28.9</td>\n",
       "      <td>1.33</td>\n",
       "      <td>15</td>\n",
       "      <td>0.5</td>\n",
       "      <td>13</td>\n",
       "    </tr>\n",
       "    <tr>\n",
       "      <th>2</th>\n",
       "      <td>1/3/17</td>\n",
       "      <td>Tuesday</td>\n",
       "      <td>34.5</td>\n",
       "      <td>1.33</td>\n",
       "      <td>27</td>\n",
       "      <td>0.5</td>\n",
       "      <td>15</td>\n",
       "    </tr>\n",
       "    <tr>\n",
       "      <th>3</th>\n",
       "      <td>1/4/17</td>\n",
       "      <td>Wednesday</td>\n",
       "      <td>44.1</td>\n",
       "      <td>1.05</td>\n",
       "      <td>28</td>\n",
       "      <td>0.5</td>\n",
       "      <td>17</td>\n",
       "    </tr>\n",
       "    <tr>\n",
       "      <th>4</th>\n",
       "      <td>1/5/17</td>\n",
       "      <td>Thursday</td>\n",
       "      <td>42.4</td>\n",
       "      <td>1.00</td>\n",
       "      <td>33</td>\n",
       "      <td>0.5</td>\n",
       "      <td>18</td>\n",
       "    </tr>\n",
       "  </tbody>\n",
       "</table>\n",
       "</div>"
      ],
      "text/plain": [
       "     Date        Day  Temperature  Rainfall  Flyers  Price  Sales\n",
       "0  1/1/17     Sunday         27.0      2.00      15    0.5     10\n",
       "1  1/2/17     Monday         28.9      1.33      15    0.5     13\n",
       "2  1/3/17    Tuesday         34.5      1.33      27    0.5     15\n",
       "3  1/4/17  Wednesday         44.1      1.05      28    0.5     17\n",
       "4  1/5/17   Thursday         42.4      1.00      33    0.5     18"
      ]
     },
     "execution_count": 3,
     "metadata": {},
     "output_type": "execute_result"
    }
   ],
   "source": [
    "df = pd.read_csv('https://gist.githubusercontent.com/ryanorsinger/c303a90050d3192773288f7eea97b708/raw/536533b90bb2bf41cea27a2c96a63347cde082a6/lemonade.csv')\n",
    "df.head()"
   ]
  },
  {
   "cell_type": "markdown",
   "metadata": {},
   "source": [
    "# Flyers"
   ]
  },
  {
   "cell_type": "code",
   "execution_count": 4,
   "metadata": {},
   "outputs": [
    {
     "data": {
      "image/png": "[encoded data removed]",
      "text/plain": [
       "<Figure size 432x288 with 1 Axes>"
      ]
     },
     "metadata": {
      "needs_background": "light"
     },
     "output_type": "display_data"
    }
   ],
   "source": [
    "plt.suptitle(\"Adding a Line of Best Fit\")\n",
    "plt.title(\"Plotting Flyers vs. Sales\")\n",
    "sns.regplot(x=\"Flyers\", y=\"Sales\", data=df)\n",
    "plt.show()"
   ]
  },
  {
   "cell_type": "code",
   "execution_count": 5,
   "metadata": {},
   "outputs": [
    {
     "data": {
      "text/html": [
       "<div>\n",
       "<style scoped>\n",
       "    .dataframe tbody tr th:only-of-type {\n",
       "        vertical-align: middle;\n",
       "    }\n",
       "\n",
       "    .dataframe tbody tr th {\n",
       "        vertical-align: top;\n",
       "    }\n",
       "\n",
       "    .dataframe thead th {\n",
       "        text-align: right;\n",
       "    }\n",
       "</style>\n",
       "<table border=\"1\" class=\"dataframe\">\n",
       "  <thead>\n",
       "    <tr style=\"text-align: right;\">\n",
       "      <th></th>\n",
       "      <th>x</th>\n",
       "      <th>y</th>\n",
       "      <th>baseline</th>\n",
       "      <th>yhat</th>\n",
       "      <th>baseline_residual</th>\n",
       "      <th>model_residual</th>\n",
       "    </tr>\n",
       "  </thead>\n",
       "  <tbody>\n",
       "    <tr>\n",
       "      <th>0</th>\n",
       "      <td>15</td>\n",
       "      <td>10</td>\n",
       "      <td>25.323288</td>\n",
       "      <td>14.673754</td>\n",
       "      <td>15.323288</td>\n",
       "      <td>4.673754</td>\n",
       "    </tr>\n",
       "    <tr>\n",
       "      <th>1</th>\n",
       "      <td>15</td>\n",
       "      <td>13</td>\n",
       "      <td>25.323288</td>\n",
       "      <td>14.673754</td>\n",
       "      <td>12.323288</td>\n",
       "      <td>1.673754</td>\n",
       "    </tr>\n",
       "    <tr>\n",
       "      <th>2</th>\n",
       "      <td>27</td>\n",
       "      <td>15</td>\n",
       "      <td>25.323288</td>\n",
       "      <td>19.727926</td>\n",
       "      <td>10.323288</td>\n",
       "      <td>4.727926</td>\n",
       "    </tr>\n",
       "    <tr>\n",
       "      <th>3</th>\n",
       "      <td>28</td>\n",
       "      <td>17</td>\n",
       "      <td>25.323288</td>\n",
       "      <td>20.149107</td>\n",
       "      <td>8.323288</td>\n",
       "      <td>3.149107</td>\n",
       "    </tr>\n",
       "    <tr>\n",
       "      <th>4</th>\n",
       "      <td>33</td>\n",
       "      <td>18</td>\n",
       "      <td>25.323288</td>\n",
       "      <td>22.255013</td>\n",
       "      <td>7.323288</td>\n",
       "      <td>4.255013</td>\n",
       "    </tr>\n",
       "  </tbody>\n",
       "</table>\n",
       "</div>"
      ],
      "text/plain": [
       "    x   y   baseline       yhat  baseline_residual  model_residual\n",
       "0  15  10  25.323288  14.673754          15.323288        4.673754\n",
       "1  15  13  25.323288  14.673754          12.323288        1.673754\n",
       "2  27  15  25.323288  19.727926          10.323288        4.727926\n",
       "3  28  17  25.323288  20.149107           8.323288        3.149107\n",
       "4  33  18  25.323288  22.255013           7.323288        4.255013"
      ]
     },
     "execution_count": 5,
     "metadata": {},
     "output_type": "execute_result"
    }
   ],
   "source": [
    "baseline = df.Sales.mean()\n",
    "\n",
    "from statsmodels.formula.api import ols\n",
    "\n",
    "model = ols('Sales ~ Flyers', df).fit()\n",
    "\n",
    "# Pre-requisite Part 3 - Calculate residuals\n",
    "evaluate = pd.DataFrame()\n",
    "\n",
    "evaluate[\"x\"] = df.Flyers\n",
    "\n",
    "# Our y is our dependent variable\n",
    "evaluate[\"y\"] = df.Sales\n",
    "evaluate[\"baseline\"] = df.Sales.mean()\n",
    "\n",
    "# y-hat is shorthand for \"predicted y\" values\n",
    "evaluate[\"yhat\"] = model.predict()\n",
    "\n",
    "# Calculate the baseline residuals \n",
    "evaluate[\"baseline_residual\"] = evaluate.baseline - evaluate.y\n",
    "\n",
    "# Calculate the model residuals\n",
    "evaluate[\"model_residual\"] = evaluate.yhat - evaluate.y\n",
    "\n",
    "evaluate.head()"
   ]
  },
  {
   "cell_type": "code",
   "execution_count": 6,
   "metadata": {},
   "outputs": [
    {
     "name": "stdout",
     "output_type": "stream",
     "text": [
      "Our model beats the baseline\n",
      "It makes sense to evaluate this model more deeply.\n"
     ]
    }
   ],
   "source": [
    "# Calculate if the model beats the baseline\n",
    "baseline_sse = ((evaluate.baseline_residual**2).sum())\n",
    "model_sse = ((evaluate.model_residual**2).sum())\n",
    "\n",
    "if model_sse < baseline_sse:\n",
    "    print(\"Our model beats the baseline\")\n",
    "    print(\"It makes sense to evaluate this model more deeply.\")\n",
    "else:\n",
    "    print(\"Our baseline is better than the model.\")"
   ]
  },
  {
   "cell_type": "code",
   "execution_count": 7,
   "metadata": {},
   "outputs": [
    {
     "name": "stdout",
     "output_type": "stream",
     "text": [
      "SSE is 6083.326244705024  which is the sum sf squared errors\n",
      "MSE is 16.666647245767187  which is the average squared error\n",
      "RMSE is 4.082480526073233  which is the square root of the MSE\n"
     ]
    }
   ],
   "source": [
    "from sklearn.metrics import mean_squared_error\n",
    "from math import sqrt\n",
    "\n",
    "metrics = pd.DataFrame()\n",
    "\n",
    "# Sum the squares of the baseline errors\n",
    "model_sse = ((evaluate.model_residual**2).sum())\n",
    "\n",
    "# Take the average of the Sum of squared errors\n",
    "# mse = model_sse / len(evaluate)\n",
    "\n",
    "# Or we could calculate this using sklearn's mean_squared_error function\n",
    "mse = mean_squared_error(evaluate.y, evaluate.yhat)\n",
    "\n",
    "# Now we'll take the Square Root of the Sum of Errors\n",
    "# Taking the square root is nice because the units of the error \n",
    "# will be in the same units as the target variable.\n",
    "rmse = sqrt(mse)\n",
    "\n",
    "print(\"SSE is\", model_sse, \" which is the sum sf squared errors\")\n",
    "print(\"MSE is\", mse, \" which is the average squared error\")\n",
    "print(\"RMSE is\", rmse, \" which is the square root of the MSE\")"
   ]
  },
  {
   "cell_type": "code",
   "execution_count": 8,
   "metadata": {},
   "outputs": [
    {
     "name": "stdout",
     "output_type": "stream",
     "text": [
      "R-squared =  0.648\n",
      "p-value for model significance =  2.193718738113383e-84\n"
     ]
    }
   ],
   "source": [
    "# The model commented below is our model\n",
    "# model = ols('sales ~ flyers', df).fit()\n",
    "\n",
    "r2 = model.rsquared\n",
    "print('R-squared = ', round(r2,3))\n",
    "\n",
    "f_pval = model.f_pvalue\n",
    "print(\"p-value for model significance = \", f_pval)"
   ]
  },
  {
   "cell_type": "markdown",
   "metadata": {},
   "source": [
    "# Rainfall"
   ]
  },
  {
   "cell_type": "code",
   "execution_count": 9,
   "metadata": {},
   "outputs": [
    {
     "data": {
      "image/png": "[encoded data removed]",
      "text/plain": [
       "<Figure size 432x288 with 1 Axes>"
      ]
     },
     "metadata": {
      "needs_background": "light"
     },
     "output_type": "display_data"
    }
   ],
   "source": [
    "plt.suptitle(\"Adding a Line of Best Fit\")\n",
    "plt.title(\"Plotting Flyers vs. Sales\")\n",
    "sns.regplot(x=\"Rainfall\", y=\"Sales\", data=df)\n",
    "plt.show()"
   ]
  },
  {
   "cell_type": "code",
   "execution_count": 10,
   "metadata": {},
   "outputs": [
    {
     "data": {
      "text/html": [
       "<div>\n",
       "<style scoped>\n",
       "    .dataframe tbody tr th:only-of-type {\n",
       "        vertical-align: middle;\n",
       "    }\n",
       "\n",
       "    .dataframe tbody tr th {\n",
       "        vertical-align: top;\n",
       "    }\n",
       "\n",
       "    .dataframe thead th {\n",
       "        text-align: right;\n",
       "    }\n",
       "</style>\n",
       "<table border=\"1\" class=\"dataframe\">\n",
       "  <thead>\n",
       "    <tr style=\"text-align: right;\">\n",
       "      <th></th>\n",
       "      <th>x</th>\n",
       "      <th>y</th>\n",
       "      <th>baseline</th>\n",
       "      <th>yhat</th>\n",
       "      <th>baseline_residual</th>\n",
       "      <th>model_residual</th>\n",
       "    </tr>\n",
       "  </thead>\n",
       "  <tbody>\n",
       "    <tr>\n",
       "      <th>0</th>\n",
       "      <td>2.00</td>\n",
       "      <td>10</td>\n",
       "      <td>25.323288</td>\n",
       "      <td>-1.599602</td>\n",
       "      <td>15.323288</td>\n",
       "      <td>-11.599602</td>\n",
       "    </tr>\n",
       "    <tr>\n",
       "      <th>1</th>\n",
       "      <td>1.33</td>\n",
       "      <td>13</td>\n",
       "      <td>25.323288</td>\n",
       "      <td>13.773142</td>\n",
       "      <td>12.323288</td>\n",
       "      <td>0.773142</td>\n",
       "    </tr>\n",
       "    <tr>\n",
       "      <th>2</th>\n",
       "      <td>1.33</td>\n",
       "      <td>15</td>\n",
       "      <td>25.323288</td>\n",
       "      <td>13.773142</td>\n",
       "      <td>10.323288</td>\n",
       "      <td>-1.226858</td>\n",
       "    </tr>\n",
       "    <tr>\n",
       "      <th>3</th>\n",
       "      <td>1.05</td>\n",
       "      <td>17</td>\n",
       "      <td>25.323288</td>\n",
       "      <td>20.197573</td>\n",
       "      <td>8.323288</td>\n",
       "      <td>3.197573</td>\n",
       "    </tr>\n",
       "    <tr>\n",
       "      <th>4</th>\n",
       "      <td>1.00</td>\n",
       "      <td>18</td>\n",
       "      <td>25.323288</td>\n",
       "      <td>21.344793</td>\n",
       "      <td>7.323288</td>\n",
       "      <td>3.344793</td>\n",
       "    </tr>\n",
       "  </tbody>\n",
       "</table>\n",
       "</div>"
      ],
      "text/plain": [
       "      x   y   baseline       yhat  baseline_residual  model_residual\n",
       "0  2.00  10  25.323288  -1.599602          15.323288      -11.599602\n",
       "1  1.33  13  25.323288  13.773142          12.323288        0.773142\n",
       "2  1.33  15  25.323288  13.773142          10.323288       -1.226858\n",
       "3  1.05  17  25.323288  20.197573           8.323288        3.197573\n",
       "4  1.00  18  25.323288  21.344793           7.323288        3.344793"
      ]
     },
     "execution_count": 10,
     "metadata": {},
     "output_type": "execute_result"
    }
   ],
   "source": [
    "baseline = df.Sales.mean()\n",
    "\n",
    "from statsmodels.formula.api import ols\n",
    "\n",
    "model = ols('Sales ~ Rainfall', df).fit()\n",
    "\n",
    "# Pre-requisite Part 3 - Calculate residuals\n",
    "evaluate = pd.DataFrame()\n",
    "\n",
    "evaluate[\"x\"] = df.Rainfall\n",
    "\n",
    "# Our y is our dependent variable\n",
    "evaluate[\"y\"] = df.Sales\n",
    "evaluate[\"baseline\"] = df.Sales.mean()\n",
    "\n",
    "# y-hat is shorthand for \"predicted y\" values\n",
    "evaluate[\"yhat\"] = model.predict()\n",
    "\n",
    "# Calculate the baseline residuals \n",
    "evaluate[\"baseline_residual\"] = evaluate.baseline - evaluate.y\n",
    "\n",
    "# Calculate the model residuals\n",
    "evaluate[\"model_residual\"] = evaluate.yhat - evaluate.y\n",
    "\n",
    "evaluate.head()"
   ]
  },
  {
   "cell_type": "code",
   "execution_count": 11,
   "metadata": {},
   "outputs": [
    {
     "name": "stdout",
     "output_type": "stream",
     "text": [
      "Our model beats the baseline\n",
      "It makes sense to evaluate this model more deeply.\n"
     ]
    }
   ],
   "source": [
    "# Calculate if the model beats the baseline\n",
    "baseline_sse = ((evaluate.baseline_residual**2).sum())\n",
    "model_sse = ((evaluate.model_residual**2).sum())\n",
    "\n",
    "if model_sse < baseline_sse:\n",
    "    print(\"Our model beats the baseline\")\n",
    "    print(\"It makes sense to evaluate this model more deeply.\")\n",
    "else:\n",
    "    print(\"Our baseline is better than the model.\")"
   ]
  },
  {
   "cell_type": "code",
   "execution_count": 12,
   "metadata": {},
   "outputs": [
    {
     "name": "stdout",
     "output_type": "stream",
     "text": [
      "SSE is 2998.2371310300655  which is the sum sf squared errors\n",
      "MSE is 8.21434830419196  which is the average squared error\n",
      "RMSE is 2.866068440249109  which is the square root of the MSE\n"
     ]
    }
   ],
   "source": [
    "from sklearn.metrics import mean_squared_error\n",
    "from math import sqrt\n",
    "\n",
    "metrics = pd.DataFrame()\n",
    "\n",
    "# Sum the squares of the baseline errors\n",
    "model_sse = ((evaluate.model_residual**2).sum())\n",
    "\n",
    "# Take the average of the Sum of squared errors\n",
    "# mse = model_sse / len(evaluate)\n",
    "\n",
    "# Or we could calculate this using sklearn's mean_squared_error function\n",
    "mse = mean_squared_error(evaluate.y, evaluate.yhat)\n",
    "\n",
    "# Now we'll take the Square Root of the Sum of Errors\n",
    "# Taking the square root is nice because the units of the error \n",
    "# will be in the same units as the target variable.\n",
    "rmse = sqrt(mse)\n",
    "\n",
    "print(\"SSE is\", model_sse, \" which is the sum sf squared errors\")\n",
    "print(\"MSE is\", mse, \" which is the average squared error\")\n",
    "print(\"RMSE is\", rmse, \" which is the square root of the MSE\")"
   ]
  },
  {
   "cell_type": "code",
   "execution_count": 13,
   "metadata": {},
   "outputs": [
    {
     "name": "stdout",
     "output_type": "stream",
     "text": [
      "R-squared =  0.827\n",
      "p-value for model significance =  3.2988846597381e-140\n"
     ]
    }
   ],
   "source": [
    "# The model commented below is our model\n",
    "# model = ols('sales ~ flyers', df).fit()\n",
    "\n",
    "r2 = model.rsquared\n",
    "print('R-squared = ', round(r2,3))\n",
    "\n",
    "f_pval = model.f_pvalue\n",
    "print(\"p-value for model significance = \", f_pval)"
   ]
  },
  {
   "cell_type": "markdown",
   "metadata": {},
   "source": [
    "The rainfall simple model beats the baseline model and the flyer model."
   ]
  },
  {
   "cell_type": "markdown",
   "metadata": {},
   "source": [
    "# Log Rainfall"
   ]
  },
  {
   "cell_type": "code",
   "execution_count": 14,
   "metadata": {},
   "outputs": [
    {
     "data": {
      "image/png": "[encoded data removed]",
      "text/plain": [
       "<Figure size 432x288 with 1 Axes>"
      ]
     },
     "metadata": {
      "needs_background": "light"
     },
     "output_type": "display_data"
    }
   ],
   "source": [
    "df[\"log_rainfall\"] = np.log(df.Rainfall)\n",
    "\n",
    "plt.suptitle(\"Adding a Line of Best Fit\")\n",
    "plt.title(\"Plotting Flyers vs. Sales\")\n",
    "sns.regplot(x=\"log_rainfall\", y=\"Sales\", data=df)\n",
    "plt.show()"
   ]
  },
  {
   "cell_type": "code",
   "execution_count": 15,
   "metadata": {},
   "outputs": [
    {
     "data": {
      "text/html": [
       "<div>\n",
       "<style scoped>\n",
       "    .dataframe tbody tr th:only-of-type {\n",
       "        vertical-align: middle;\n",
       "    }\n",
       "\n",
       "    .dataframe tbody tr th {\n",
       "        vertical-align: top;\n",
       "    }\n",
       "\n",
       "    .dataframe thead th {\n",
       "        text-align: right;\n",
       "    }\n",
       "</style>\n",
       "<table border=\"1\" class=\"dataframe\">\n",
       "  <thead>\n",
       "    <tr style=\"text-align: right;\">\n",
       "      <th></th>\n",
       "      <th>x</th>\n",
       "      <th>y</th>\n",
       "      <th>baseline</th>\n",
       "      <th>yhat</th>\n",
       "      <th>baseline_residual</th>\n",
       "      <th>model_residual</th>\n",
       "    </tr>\n",
       "  </thead>\n",
       "  <tbody>\n",
       "    <tr>\n",
       "      <th>0</th>\n",
       "      <td>0.693147</td>\n",
       "      <td>10</td>\n",
       "      <td>25.323288</td>\n",
       "      <td>3.688573</td>\n",
       "      <td>15.323288</td>\n",
       "      <td>-6.311427</td>\n",
       "    </tr>\n",
       "    <tr>\n",
       "      <th>1</th>\n",
       "      <td>0.285179</td>\n",
       "      <td>13</td>\n",
       "      <td>25.323288</td>\n",
       "      <td>13.198359</td>\n",
       "      <td>12.323288</td>\n",
       "      <td>0.198359</td>\n",
       "    </tr>\n",
       "    <tr>\n",
       "      <th>2</th>\n",
       "      <td>0.285179</td>\n",
       "      <td>15</td>\n",
       "      <td>25.323288</td>\n",
       "      <td>13.198359</td>\n",
       "      <td>10.323288</td>\n",
       "      <td>-1.801641</td>\n",
       "    </tr>\n",
       "    <tr>\n",
       "      <th>3</th>\n",
       "      <td>0.048790</td>\n",
       "      <td>17</td>\n",
       "      <td>25.323288</td>\n",
       "      <td>18.708608</td>\n",
       "      <td>8.323288</td>\n",
       "      <td>1.708608</td>\n",
       "    </tr>\n",
       "    <tr>\n",
       "      <th>4</th>\n",
       "      <td>0.000000</td>\n",
       "      <td>18</td>\n",
       "      <td>25.323288</td>\n",
       "      <td>19.845912</td>\n",
       "      <td>7.323288</td>\n",
       "      <td>1.845912</td>\n",
       "    </tr>\n",
       "  </tbody>\n",
       "</table>\n",
       "</div>"
      ],
      "text/plain": [
       "          x   y   baseline       yhat  baseline_residual  model_residual\n",
       "0  0.693147  10  25.323288   3.688573          15.323288       -6.311427\n",
       "1  0.285179  13  25.323288  13.198359          12.323288        0.198359\n",
       "2  0.285179  15  25.323288  13.198359          10.323288       -1.801641\n",
       "3  0.048790  17  25.323288  18.708608           8.323288        1.708608\n",
       "4  0.000000  18  25.323288  19.845912           7.323288        1.845912"
      ]
     },
     "execution_count": 15,
     "metadata": {},
     "output_type": "execute_result"
    }
   ],
   "source": [
    "baseline = df.Sales.mean()\n",
    "\n",
    "from statsmodels.formula.api import ols\n",
    "\n",
    "model = ols('Sales ~ log_rainfall', df).fit()\n",
    "\n",
    "# Pre-requisite Part 3 - Calculate residuals\n",
    "evaluate = pd.DataFrame()\n",
    "\n",
    "evaluate[\"x\"] = df.log_rainfall\n",
    "\n",
    "# Our y is our dependent variable\n",
    "evaluate[\"y\"] = df.Sales\n",
    "evaluate[\"baseline\"] = df.Sales.mean()\n",
    "\n",
    "# y-hat is shorthand for \"predicted y\" values\n",
    "evaluate[\"yhat\"] = model.predict()\n",
    "\n",
    "# Calculate the baseline residuals \n",
    "evaluate[\"baseline_residual\"] = evaluate.baseline - evaluate.y\n",
    "\n",
    "# Calculate the model residuals\n",
    "evaluate[\"model_residual\"] = evaluate.yhat - evaluate.y\n",
    "\n",
    "evaluate.head()"
   ]
  },
  {
   "cell_type": "code",
   "execution_count": 16,
   "metadata": {},
   "outputs": [
    {
     "name": "stdout",
     "output_type": "stream",
     "text": [
      "Our model beats the baseline\n",
      "It makes sense to evaluate this model more deeply.\n"
     ]
    }
   ],
   "source": [
    "# Calculate if the model beats the baseline\n",
    "baseline_sse = ((evaluate.baseline_residual**2).sum())\n",
    "model_sse = ((evaluate.model_residual**2).sum())\n",
    "\n",
    "if model_sse < baseline_sse:\n",
    "    print(\"Our model beats the baseline\")\n",
    "    print(\"It makes sense to evaluate this model more deeply.\")\n",
    "else:\n",
    "    print(\"Our baseline is better than the model.\")"
   ]
  },
  {
   "cell_type": "code",
   "execution_count": 17,
   "metadata": {},
   "outputs": [
    {
     "name": "stdout",
     "output_type": "stream",
     "text": [
      "SSE is 952.3253474293448  which is the sum sf squared errors\n",
      "MSE is 2.6091105409023143  which is the average squared error\n",
      "RMSE is 1.6152741380033033  which is the square root of the MSE\n"
     ]
    }
   ],
   "source": [
    "from sklearn.metrics import mean_squared_error\n",
    "from math import sqrt\n",
    "\n",
    "metrics = pd.DataFrame()\n",
    "\n",
    "# Sum the squares of the baseline errors\n",
    "model_sse = ((evaluate.model_residual**2).sum())\n",
    "\n",
    "# Take the average of the Sum of squared errors\n",
    "# mse = model_sse / len(evaluate)\n",
    "\n",
    "# Or we could calculate this using sklearn's mean_squared_error function\n",
    "mse = mean_squared_error(evaluate.y, evaluate.yhat)\n",
    "\n",
    "# Now we'll take the Square Root of the Sum of Errors\n",
    "# Taking the square root is nice because the units of the error \n",
    "# will be in the same units as the target variable.\n",
    "rmse = sqrt(mse)\n",
    "\n",
    "print(\"SSE is\", model_sse, \" which is the sum sf squared errors\")\n",
    "print(\"MSE is\", mse, \" which is the average squared error\")\n",
    "print(\"RMSE is\", rmse, \" which is the square root of the MSE\")"
   ]
  },
  {
   "cell_type": "code",
   "execution_count": 18,
   "metadata": {},
   "outputs": [
    {
     "name": "stdout",
     "output_type": "stream",
     "text": [
      "R-squared =  0.945\n",
      "p-value for model significance =  1.2242624097795882e-230\n"
     ]
    }
   ],
   "source": [
    "# The model commented below is our model\n",
    "# model = ols('sales ~ flyers', df).fit()\n",
    "\n",
    "r2 = model.rsquared\n",
    "print('R-squared = ', round(r2,3))\n",
    "\n",
    "f_pval = model.f_pvalue\n",
    "print(\"p-value for model significance = \", f_pval)"
   ]
  },
  {
   "cell_type": "markdown",
   "metadata": {},
   "source": [
    "So far, the log_rainfall metric is the beset feature to use for our simple model."
   ]
  },
  {
   "cell_type": "markdown",
   "metadata": {},
   "source": [
    "# Temperature"
   ]
  },
  {
   "cell_type": "code",
   "execution_count": 19,
   "metadata": {},
   "outputs": [
    {
     "data": {
      "image/png": "[encoded data removed]",
      "text/plain": [
       "<Figure size 432x288 with 1 Axes>"
      ]
     },
     "metadata": {
      "needs_background": "light"
     },
     "output_type": "display_data"
    }
   ],
   "source": [
    "plt.suptitle(\"Adding a Line of Best Fit\")\n",
    "plt.title(\"Plotting Temperature vs. Sales\")\n",
    "sns.regplot(x=\"Temperature\", y=\"Sales\", data=df)\n",
    "plt.show()"
   ]
  },
  {
   "cell_type": "code",
   "execution_count": 20,
   "metadata": {},
   "outputs": [
    {
     "data": {
      "text/html": [
       "<div>\n",
       "<style scoped>\n",
       "    .dataframe tbody tr th:only-of-type {\n",
       "        vertical-align: middle;\n",
       "    }\n",
       "\n",
       "    .dataframe tbody tr th {\n",
       "        vertical-align: top;\n",
       "    }\n",
       "\n",
       "    .dataframe thead th {\n",
       "        text-align: right;\n",
       "    }\n",
       "</style>\n",
       "<table border=\"1\" class=\"dataframe\">\n",
       "  <thead>\n",
       "    <tr style=\"text-align: right;\">\n",
       "      <th></th>\n",
       "      <th>x</th>\n",
       "      <th>y</th>\n",
       "      <th>baseline</th>\n",
       "      <th>yhat</th>\n",
       "      <th>baseline_residual</th>\n",
       "      <th>model_residual</th>\n",
       "    </tr>\n",
       "  </thead>\n",
       "  <tbody>\n",
       "    <tr>\n",
       "      <th>0</th>\n",
       "      <td>27.0</td>\n",
       "      <td>10</td>\n",
       "      <td>25.323288</td>\n",
       "      <td>11.112301</td>\n",
       "      <td>15.323288</td>\n",
       "      <td>1.112301</td>\n",
       "    </tr>\n",
       "    <tr>\n",
       "      <th>1</th>\n",
       "      <td>28.9</td>\n",
       "      <td>13</td>\n",
       "      <td>25.323288</td>\n",
       "      <td>11.912772</td>\n",
       "      <td>12.323288</td>\n",
       "      <td>-1.087228</td>\n",
       "    </tr>\n",
       "    <tr>\n",
       "      <th>2</th>\n",
       "      <td>34.5</td>\n",
       "      <td>15</td>\n",
       "      <td>25.323288</td>\n",
       "      <td>14.272055</td>\n",
       "      <td>10.323288</td>\n",
       "      <td>-0.727945</td>\n",
       "    </tr>\n",
       "    <tr>\n",
       "      <th>3</th>\n",
       "      <td>44.1</td>\n",
       "      <td>17</td>\n",
       "      <td>25.323288</td>\n",
       "      <td>18.316540</td>\n",
       "      <td>8.323288</td>\n",
       "      <td>1.316540</td>\n",
       "    </tr>\n",
       "    <tr>\n",
       "      <th>4</th>\n",
       "      <td>42.4</td>\n",
       "      <td>18</td>\n",
       "      <td>25.323288</td>\n",
       "      <td>17.600329</td>\n",
       "      <td>7.323288</td>\n",
       "      <td>-0.399671</td>\n",
       "    </tr>\n",
       "  </tbody>\n",
       "</table>\n",
       "</div>"
      ],
      "text/plain": [
       "      x   y   baseline       yhat  baseline_residual  model_residual\n",
       "0  27.0  10  25.323288  11.112301          15.323288        1.112301\n",
       "1  28.9  13  25.323288  11.912772          12.323288       -1.087228\n",
       "2  34.5  15  25.323288  14.272055          10.323288       -0.727945\n",
       "3  44.1  17  25.323288  18.316540           8.323288        1.316540\n",
       "4  42.4  18  25.323288  17.600329           7.323288       -0.399671"
      ]
     },
     "execution_count": 20,
     "metadata": {},
     "output_type": "execute_result"
    }
   ],
   "source": [
    "baseline = df.Sales.mean()\n",
    "\n",
    "from statsmodels.formula.api import ols\n",
    "\n",
    "model = ols('Sales ~ Temperature', df).fit()\n",
    "\n",
    "# Pre-requisite Part 3 - Calculate residuals\n",
    "evaluate = pd.DataFrame()\n",
    "\n",
    "evaluate[\"x\"] = df.Temperature\n",
    "\n",
    "# Our y is our dependent variable\n",
    "evaluate[\"y\"] = df.Sales\n",
    "evaluate[\"baseline\"] = df.Sales.mean()\n",
    "\n",
    "# y-hat is shorthand for \"predicted y\" values\n",
    "evaluate[\"yhat\"] = model.predict()\n",
    "\n",
    "# Calculate the baseline residuals \n",
    "evaluate[\"baseline_residual\"] = evaluate.baseline - evaluate.y\n",
    "\n",
    "# Calculate the model residuals\n",
    "evaluate[\"model_residual\"] = evaluate.yhat - evaluate.y\n",
    "\n",
    "evaluate.head()"
   ]
  },
  {
   "cell_type": "code",
   "execution_count": 21,
   "metadata": {},
   "outputs": [
    {
     "name": "stdout",
     "output_type": "stream",
     "text": [
      "Our model beats the baseline\n",
      "It makes sense to evaluate this model more deeply.\n"
     ]
    }
   ],
   "source": [
    "# Calculate if the model beats the baseline\n",
    "baseline_sse = ((evaluate.baseline_residual**2).sum())\n",
    "model_sse = ((evaluate.model_residual**2).sum())\n",
    "\n",
    "if model_sse < baseline_sse:\n",
    "    print(\"Our model beats the baseline\")\n",
    "    print(\"It makes sense to evaluate this model more deeply.\")\n",
    "else:\n",
    "    print(\"Our baseline is better than the model.\")"
   ]
  },
  {
   "cell_type": "code",
   "execution_count": 22,
   "metadata": {},
   "outputs": [
    {
     "name": "stdout",
     "output_type": "stream",
     "text": [
      "SSE is 349.977815203168  which is the sum sf squared errors\n",
      "MSE is 0.9588433293237479  which is the average squared error\n",
      "RMSE is 0.979205458177061  which is the square root of the MSE\n"
     ]
    }
   ],
   "source": [
    "from sklearn.metrics import mean_squared_error\n",
    "from math import sqrt\n",
    "\n",
    "metrics = pd.DataFrame()\n",
    "\n",
    "# Sum the squares of the baseline errors\n",
    "model_sse = ((evaluate.model_residual**2).sum())\n",
    "\n",
    "# Take the average of the Sum of squared errors\n",
    "# mse = model_sse / len(evaluate)\n",
    "\n",
    "# Or we could calculate this using sklearn's mean_squared_error function\n",
    "mse = mean_squared_error(evaluate.y, evaluate.yhat)\n",
    "\n",
    "# Now we'll take the Square Root of the Sum of Errors\n",
    "# Taking the square root is nice because the units of the error \n",
    "# will be in the same units as the target variable.\n",
    "rmse = sqrt(mse)\n",
    "\n",
    "print(\"SSE is\", model_sse, \" which is the sum sf squared errors\")\n",
    "print(\"MSE is\", mse, \" which is the average squared error\")\n",
    "print(\"RMSE is\", rmse, \" which is the square root of the MSE\")"
   ]
  },
  {
   "cell_type": "code",
   "execution_count": 23,
   "metadata": {},
   "outputs": [
    {
     "name": "stdout",
     "output_type": "stream",
     "text": [
      "R-squared =  0.98\n",
      "p-value for model significance =  1.492364042585725e-309\n"
     ]
    }
   ],
   "source": [
    "# The model commented below is our model\n",
    "# model = ols('sales ~ flyers', df).fit()\n",
    "\n",
    "r2 = model.rsquared\n",
    "print('R-squared = ', round(r2,3))\n",
    "\n",
    "f_pval = model.f_pvalue\n",
    "print(\"p-value for model significance = \", f_pval)"
   ]
  },
  {
   "cell_type": "markdown",
   "metadata": {},
   "source": [
    "Temperature is now the best feature to use in our model. "
   ]
  },
  {
   "cell_type": "markdown",
   "metadata": {},
   "source": [
    "### Tips dataset\n",
    "1. Load the `tips` dataset from `pydataset` or `seaborn`\n",
    "2. Define your baseline for \"tip\". Our goal will be to see if we can make a model that is better than baseline for predicting tips on total_bill.\n",
    "3. Fit a linear regression model (ordinary least squares) and compute yhat, predictions of tip using total_bill.\n",
    "Here is some sample code to get you started:\n",
    "\n",
    "```python\n",
    "from statsmodels.formula.api import ols\n",
    "from pydataset import data\n",
    "\n",
    "df = data(\"tips\")\n",
    "\n",
    "model = ols('tip ~ total_bill', data=df).fit()\n",
    "predictions = model.predict(df.x)\n",
    "```\n",
    "4. Calculate the sum of squared errors, explained sum of squares, total sum of squares, mean squared error, and root mean squared error for your model.\n",
    "\n",
    "5. Calculate the sum of squared errors, mean squared error, and root mean squared error for the baseline model (i.e. a model that always predicts the average tip amount).\n",
    "\n",
    "6. Write python code that compares the sum of squared errors for your model against the sum of squared errors for the baseline model and outputs whether or not your model performs better than the baseline model.\n",
    "\n",
    "7. What is the amount of variance explained in your model?\n",
    "\n",
    "8. Is your model significantly better than the baseline model?\n",
    "\n",
    "9. Plot the residuals for the linear regression model that you made."
   ]
  },
  {
   "cell_type": "code",
   "execution_count": 24,
   "metadata": {},
   "outputs": [
    {
     "data": {
      "text/html": [
       "<div>\n",
       "<style scoped>\n",
       "    .dataframe tbody tr th:only-of-type {\n",
       "        vertical-align: middle;\n",
       "    }\n",
       "\n",
       "    .dataframe tbody tr th {\n",
       "        vertical-align: top;\n",
       "    }\n",
       "\n",
       "    .dataframe thead th {\n",
       "        text-align: right;\n",
       "    }\n",
       "</style>\n",
       "<table border=\"1\" class=\"dataframe\">\n",
       "  <thead>\n",
       "    <tr style=\"text-align: right;\">\n",
       "      <th></th>\n",
       "      <th>total_bill</th>\n",
       "      <th>tip</th>\n",
       "      <th>sex</th>\n",
       "      <th>smoker</th>\n",
       "      <th>day</th>\n",
       "      <th>time</th>\n",
       "      <th>size</th>\n",
       "      <th>baseline</th>\n",
       "    </tr>\n",
       "  </thead>\n",
       "  <tbody>\n",
       "    <tr>\n",
       "      <th>1</th>\n",
       "      <td>16.99</td>\n",
       "      <td>1.01</td>\n",
       "      <td>Female</td>\n",
       "      <td>No</td>\n",
       "      <td>Sun</td>\n",
       "      <td>Dinner</td>\n",
       "      <td>2</td>\n",
       "      <td>2.998279</td>\n",
       "    </tr>\n",
       "    <tr>\n",
       "      <th>2</th>\n",
       "      <td>10.34</td>\n",
       "      <td>1.66</td>\n",
       "      <td>Male</td>\n",
       "      <td>No</td>\n",
       "      <td>Sun</td>\n",
       "      <td>Dinner</td>\n",
       "      <td>3</td>\n",
       "      <td>2.998279</td>\n",
       "    </tr>\n",
       "    <tr>\n",
       "      <th>3</th>\n",
       "      <td>21.01</td>\n",
       "      <td>3.50</td>\n",
       "      <td>Male</td>\n",
       "      <td>No</td>\n",
       "      <td>Sun</td>\n",
       "      <td>Dinner</td>\n",
       "      <td>3</td>\n",
       "      <td>2.998279</td>\n",
       "    </tr>\n",
       "    <tr>\n",
       "      <th>4</th>\n",
       "      <td>23.68</td>\n",
       "      <td>3.31</td>\n",
       "      <td>Male</td>\n",
       "      <td>No</td>\n",
       "      <td>Sun</td>\n",
       "      <td>Dinner</td>\n",
       "      <td>2</td>\n",
       "      <td>2.998279</td>\n",
       "    </tr>\n",
       "    <tr>\n",
       "      <th>5</th>\n",
       "      <td>24.59</td>\n",
       "      <td>3.61</td>\n",
       "      <td>Female</td>\n",
       "      <td>No</td>\n",
       "      <td>Sun</td>\n",
       "      <td>Dinner</td>\n",
       "      <td>4</td>\n",
       "      <td>2.998279</td>\n",
       "    </tr>\n",
       "  </tbody>\n",
       "</table>\n",
       "</div>"
      ],
      "text/plain": [
       "   total_bill   tip     sex smoker  day    time  size  baseline\n",
       "1       16.99  1.01  Female     No  Sun  Dinner     2  2.998279\n",
       "2       10.34  1.66    Male     No  Sun  Dinner     3  2.998279\n",
       "3       21.01  3.50    Male     No  Sun  Dinner     3  2.998279\n",
       "4       23.68  3.31    Male     No  Sun  Dinner     2  2.998279\n",
       "5       24.59  3.61  Female     No  Sun  Dinner     4  2.998279"
      ]
     },
     "execution_count": 24,
     "metadata": {},
     "output_type": "execute_result"
    }
   ],
   "source": [
    "df = data(\"tips\")\n",
    "df['baseline'] = df['tip'].mean()\n",
    "df.head()"
   ]
  },
  {
   "cell_type": "code",
   "execution_count": 25,
   "metadata": {},
   "outputs": [
    {
     "data": {
      "text/html": [
       "<div>\n",
       "<style scoped>\n",
       "    .dataframe tbody tr th:only-of-type {\n",
       "        vertical-align: middle;\n",
       "    }\n",
       "\n",
       "    .dataframe tbody tr th {\n",
       "        vertical-align: top;\n",
       "    }\n",
       "\n",
       "    .dataframe thead th {\n",
       "        text-align: right;\n",
       "    }\n",
       "</style>\n",
       "<table border=\"1\" class=\"dataframe\">\n",
       "  <thead>\n",
       "    <tr style=\"text-align: right;\">\n",
       "      <th></th>\n",
       "      <th>x</th>\n",
       "      <th>y</th>\n",
       "      <th>baseline</th>\n",
       "      <th>yhat</th>\n",
       "      <th>baseline_residual</th>\n",
       "      <th>model_residual</th>\n",
       "    </tr>\n",
       "  </thead>\n",
       "  <tbody>\n",
       "    <tr>\n",
       "      <th>1</th>\n",
       "      <td>16.99</td>\n",
       "      <td>1.01</td>\n",
       "      <td>2.998279</td>\n",
       "      <td>2.704636</td>\n",
       "      <td>1.988279</td>\n",
       "      <td>1.694636</td>\n",
       "    </tr>\n",
       "    <tr>\n",
       "      <th>2</th>\n",
       "      <td>10.34</td>\n",
       "      <td>1.66</td>\n",
       "      <td>2.998279</td>\n",
       "      <td>2.006223</td>\n",
       "      <td>1.338279</td>\n",
       "      <td>0.346223</td>\n",
       "    </tr>\n",
       "    <tr>\n",
       "      <th>3</th>\n",
       "      <td>21.01</td>\n",
       "      <td>3.50</td>\n",
       "      <td>2.998279</td>\n",
       "      <td>3.126835</td>\n",
       "      <td>-0.501721</td>\n",
       "      <td>-0.373165</td>\n",
       "    </tr>\n",
       "    <tr>\n",
       "      <th>4</th>\n",
       "      <td>23.68</td>\n",
       "      <td>3.31</td>\n",
       "      <td>2.998279</td>\n",
       "      <td>3.407250</td>\n",
       "      <td>-0.311721</td>\n",
       "      <td>0.097250</td>\n",
       "    </tr>\n",
       "    <tr>\n",
       "      <th>5</th>\n",
       "      <td>24.59</td>\n",
       "      <td>3.61</td>\n",
       "      <td>2.998279</td>\n",
       "      <td>3.502822</td>\n",
       "      <td>-0.611721</td>\n",
       "      <td>-0.107178</td>\n",
       "    </tr>\n",
       "  </tbody>\n",
       "</table>\n",
       "</div>"
      ],
      "text/plain": [
       "       x     y  baseline      yhat  baseline_residual  model_residual\n",
       "1  16.99  1.01  2.998279  2.704636           1.988279        1.694636\n",
       "2  10.34  1.66  2.998279  2.006223           1.338279        0.346223\n",
       "3  21.01  3.50  2.998279  3.126835          -0.501721       -0.373165\n",
       "4  23.68  3.31  2.998279  3.407250          -0.311721        0.097250\n",
       "5  24.59  3.61  2.998279  3.502822          -0.611721       -0.107178"
      ]
     },
     "execution_count": 25,
     "metadata": {},
     "output_type": "execute_result"
    }
   ],
   "source": [
    "from statsmodels.formula.api import ols\n",
    "\n",
    "model = ols('tip ~ total_bill', df).fit()\n",
    "\n",
    "# Pre-requisite Part 3 - Calculate residuals\n",
    "evaluate = pd.DataFrame()\n",
    "\n",
    "evaluate[\"x\"] = df.total_bill\n",
    "\n",
    "# Our y is our dependent variable\n",
    "evaluate[\"y\"] = df.tip\n",
    "evaluate[\"baseline\"] = df['tip'].mean()\n",
    "\n",
    "# y-hat is shorthand for \"predicted y\" values\n",
    "evaluate[\"yhat\"] = model.predict()\n",
    "\n",
    "# Calculate the baseline residuals \n",
    "evaluate[\"baseline_residual\"] = evaluate.baseline - evaluate.y\n",
    "\n",
    "# Calculate the model residuals\n",
    "evaluate[\"model_residual\"] = evaluate.yhat - evaluate.y\n",
    "\n",
    "evaluate.head()"
   ]
  },
  {
   "cell_type": "code",
   "execution_count": 26,
   "metadata": {},
   "outputs": [
    {
     "name": "stdout",
     "output_type": "stream",
     "text": [
      "Our model beats the baseline\n",
      "It makes sense to evaluate this model more deeply.\n"
     ]
    }
   ],
   "source": [
    "# Calculate if the model beats the baseline\n",
    "baseline_sse = ((evaluate.baseline_residual**2).sum())\n",
    "model_sse = ((evaluate.model_residual**2).sum())\n",
    "\n",
    "if model_sse < baseline_sse:\n",
    "    print(\"Our model beats the baseline\")\n",
    "    print(\"It makes sense to evaluate this model more deeply.\")\n",
    "else:\n",
    "    print(\"Our baseline is better than the model.\")"
   ]
  },
  {
   "cell_type": "code",
   "execution_count": 27,
   "metadata": {},
   "outputs": [
    {
     "name": "stdout",
     "output_type": "stream",
     "text": [
      "SSE is 252.788743850776  which is the sum sf squared errors\n",
      "MSE is 1.036019442011377  which is the average squared error\n",
      "RMSE is 1.0178504025697377  which is the square root of the MSE\n"
     ]
    }
   ],
   "source": [
    "from sklearn.metrics import mean_squared_error\n",
    "from math import sqrt\n",
    "\n",
    "metrics = pd.DataFrame()\n",
    "\n",
    "# Sum the squares of the baseline errors\n",
    "model_sse = ((evaluate.model_residual**2).sum())\n",
    "\n",
    "# Take the average of the Sum of squared errors\n",
    "# mse = model_sse / len(evaluate)\n",
    "\n",
    "# Or we could calculate this using sklearn's mean_squared_error function\n",
    "mse = mean_squared_error(evaluate.y, evaluate.yhat)\n",
    "\n",
    "# Now we'll take the Square Root of the Sum of Errors\n",
    "# Taking the square root is nice because the units of the error \n",
    "# will be in the same units as the target variable.\n",
    "rmse = sqrt(mse)\n",
    "\n",
    "print(\"SSE is\", model_sse, \" which is the sum sf squared errors\")\n",
    "print(\"MSE is\", mse, \" which is the average squared error\")\n",
    "print(\"RMSE is\", rmse, \" which is the square root of the MSE\")"
   ]
  },
  {
   "cell_type": "code",
   "execution_count": 28,
   "metadata": {},
   "outputs": [
    {
     "name": "stdout",
     "output_type": "stream",
     "text": [
      "R-squared =  0.457\n",
      "p-value for model significance =  6.692470646863376e-34\n"
     ]
    }
   ],
   "source": [
    "# The model commented below is our model\n",
    "# model = ols('sales ~ flyers', df).fit()\n",
    "\n",
    "r2 = model.rsquared\n",
    "print('R-squared = ', round(r2,3))\n",
    "\n",
    "f_pval = model.f_pvalue\n",
    "print(\"p-value for model significance = \", f_pval)\n"
   ]
  },
  {
   "cell_type": "code",
   "execution_count": 29,
   "metadata": {},
   "outputs": [
    {
     "data": {
      "image/png": "[encoded data removed]",
      "text/plain": [
       "<Figure size 432x288 with 1 Axes>"
      ]
     },
     "metadata": {
      "needs_background": "light"
     },
     "output_type": "display_data"
    }
   ],
   "source": [
    "plt.suptitle(\"Adding a Line of Best Fit\")\n",
    "plt.title(\"Plotting Total Bill vs. Tip\")\n",
    "sns.regplot(x=\"x\", y=\"model_residual\", data=evaluate)\n",
    "plt.show()"
   ]
  },
  {
   "cell_type": "code",
   "execution_count": 30,
   "metadata": {},
   "outputs": [
    {
     "data": {
      "image/png": "[encoded data removed]",
      "text/plain": [
       "<Figure size 432x288 with 1 Axes>"
      ]
     },
     "metadata": {
      "needs_background": "light"
     },
     "output_type": "display_data"
    }
   ],
   "source": [
    "plt.title(\"Residual Scatter Plot\")\n",
    "sns.scatterplot(x=\"total_bill\", y=\"tip\", data=df)\n",
    "plt.show()"
   ]
  }
 ],
 "metadata": {
  "kernelspec": {
   "display_name": "Python 3",
   "language": "python",
   "name": "python3"
  },
  "language_info": {
   "codemirror_mode": {
    "name": "ipython",
    "version": 3
   },
   "file_extension": ".py",
   "mimetype": "text/x-python",
   "name": "python",
   "nbconvert_exporter": "python",
   "pygments_lexer": "ipython3",
   "version": "3.7.6"
  }
 },
 "nbformat": 4,
 "nbformat_minor": 4
}
